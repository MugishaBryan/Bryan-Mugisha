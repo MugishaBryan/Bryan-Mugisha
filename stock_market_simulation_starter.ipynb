{
  "nbformat": 4,
  "nbformat_minor": 0,
  "metadata": {
    "colab": {
      "private_outputs": true,
      "provenance": []
    },
    "kernelspec": {
      "name": "python3",
      "display_name": "Python 3"
    },
    "language_info": {
      "name": "python"
    }
  },
  "cells": [
    {
      "cell_type": "markdown",
      "source": [
        "\n",
        ">*The outline below is provided below is designed to guide you effectively through the simulation, analysis, and evaluation processes. Feel free to adapt this suggested structure by adding or removing sections to best communicate your findings.*\n",
        "\n",
        "## Title, Author, and Introduction\n",
        "\n",
        "This notebook serves as an interactive report to simulate and analyze the stock market. It aims to provide a deeper understanding of market dynamics, the impact of events, and potential trading strategies based on price and trends.\n",
        "\n",
        "## Simulation Overview\n",
        "\n",
        "In this section restate the purpose and what this notebook demonstrates.  Include a detailed explanation of each parameter used in the simulation with practical examples.\n",
        "\n",
        "\n",
        "## Baseline Simulation\n",
        "\n",
        "In this section we want to understand and visualise the popularity without the marketing day event event.\n",
        "\n",
        "First we need to install necessary packages."
      ],
      "metadata": {
        "id": "2ZACzFrFPglO"
      }
    },
    {
      "cell_type": "code",
      "execution_count": null,
      "metadata": {
        "id": "37NCcMfpNdQk"
      },
      "outputs": [],
      "source": [
        "!pip install git+https://github.com/teaching-repositories/simulacra.git -q"
      ]
    },
    {
      "cell_type": "code",
      "source": [
        "%pip install matplotlib"
      ],
      "metadata": {
        "id": "tCicjdng6hdg"
      },
      "execution_count": null,
      "outputs": []
    },
    {
      "cell_type": "markdown",
      "source": [
        "We need to\n",
        "  - **Import the necessary libraries**: Code cells to import libraries (like `matplotlib` for plotting and any other libraries needed).\n",
        "  - **Run the Simulation**: Code to run the simulation with zero marketing  impact.\n",
        "  - **Visuale the Results**: Plotting demand over time to establish a baseline."
      ],
      "metadata": {
        "id": "-5WD251nOeSu"
      }
    },
    {
      "cell_type": "code",
      "source": [
        "from simulacra.stock_market_simulation import StockMarketSimulation\n",
        "import matplotlib.pyplot as plt\n",
        "\n",
        "# Write a helper function\n",
        "def plot_prices(prices, event_day=None):\n",
        "    \"\"\"\n",
        "    Plots the stock prices from a simulation with an optional vertical line marking a major market event.\n",
        "\n",
        "    Parameters:\n",
        "        prices (List[float]): A list of stock prices to be plotted.\n",
        "        event_day (Optional[int]): The day on which the major market event occurs (defaults to None).\n",
        "\n",
        "    Returns:\n",
        "        None\n",
        "    \"\"\"\n",
        "    plt.figure(figsize=(10, 6))\n",
        "    plt.plot(prices, label='Stock Price')\n",
        "    if event_day is not None:\n",
        "        plt.axvline(x=event_day, color='red', linestyle='--', label='Major Market Event')\n",
        "    plt.xlabel('Days')\n",
        "    plt.ylabel('Price ($)')\n",
        "    plt.title('Stock Market Simulation')\n",
        "    plt.legend()\n",
        "    plt.show()\n",
        "\n",
        "# Create the simulation\n",
        "sim = StockMarketSimulation(start_price=100, days=365, volatility=0.03,\n",
        "                                drift=-0.001, event_day=None, event_impact=-0.2, random_seed = 2)\n",
        "\n",
        "# Run the simulation\n",
        "prices = sim.run_simulation()\n",
        "\n",
        "# Visualise the results\n",
        "plot_prices(prices, sim.event_day)"
      ],
      "metadata": {
        "id": "f1g6Dwp9N4Im"
      },
      "execution_count": null,
      "outputs": []
    },
    {
      "cell_type": "markdown",
      "source": [
        "## Investigate How Volatility Affects Stock Price Stability\n",
        "\n",
        "In thisa section begin by analysing how different levels of volatility impact the stability of stock prices and the potential for investment gains or losses. Discuss the observed trends and implications.\n",
        "\n"
      ],
      "metadata": {
        "id": "Ec9uL2_UO6nP"
      }
    },
    {
      "cell_type": "code",
      "source": [
        "from simulacra.stock_market_simulation import StockMarketSimulation\n",
        "import matplotlib.pyplot as plt\n",
        "\n",
        "# Write a helper function\n",
        "def plot_prices(prices, event_day=None):\n",
        "    \"\"\"\n",
        "    Plots the stock prices from a simulation with an optional vertical line marking a major market event.\n",
        "\n",
        "    Parameters:\n",
        "        prices (List[float]): A list of stock prices to be plotted.\n",
        "        event_day (Optional[int]): The day on which the major market event occurs (defaults to None).\n",
        "\n",
        "    Returns:\n",
        "        None\n",
        "    \"\"\"\n",
        "    plt.figure(figsize=(10, 6))\n",
        "    plt.plot(prices, label='Stock Price')\n",
        "    if event_day is not None:\n",
        "        plt.axvline(x=event_day, color='red', linestyle='--', label='Major Market Event')\n",
        "    plt.xlabel('Days')\n",
        "    plt.ylabel('Price ($)')\n",
        "    plt.title('Stock Market Simulation')\n",
        "    plt.legend()\n",
        "    plt.show()\n",
        "\n",
        "# Create the simulation\n",
        "sim = StockMarketSimulation(start_price=100, days=365, volatility=0.08,\n",
        "                                drift=-0.001, event_day=100, event_impact=-0.2)\n",
        "\n",
        "# Run the simulation\n",
        "prices = sim.run_simulation()\n",
        "\n",
        "# Visualise the results\n",
        "plot_prices(prices, sim.event_day)"
      ],
      "metadata": {
        "id": "3wdp7N4-O9FJ"
      },
      "execution_count": null,
      "outputs": []
    },
    {
      "cell_type": "code",
      "source": [
        "\"\"\"\n",
        "The price of stocks that are highly unstable change significantly and often. Investors may find it difficult to forecast future price changes or determine the stock's actual value as a result of this volatility.\n",
        "High volatility has the potential to provide greater benefits but also increases risk. By purchasing cheap and selling high, traders can profit from market fluctuations, but this approach necessitates cautious timing and risk management.\n",
        "low-volatility stocks typically show smoother and more consistent price movements. Because these equities are less likely to experience unexpected and significant price swings, investors may view them as less risky.\n",
        "Low volatility can limit the possibility of making significant gains, even though it gives the impression of stability. These stocks frequently have less fortunate profits than their equivalents with higher volatility. Low-volatility stocks may be preferred by investors looking for consistent, long-term gain.\n",
        "gradually volatile stocks combine stability and risk in a pleasing way. Compared to extremely volatile equities, they may occasionally fluctuate, but they nevertheless stay comparatively predictable."
      ],
      "metadata": {
        "id": "z8kRuwfQ-8Xs"
      },
      "execution_count": null,
      "outputs": []
    },
    {
      "cell_type": "markdown",
      "source": [
        "## Simulate a Major Market Event and Analyse Its Impact\n",
        "\n",
        "In this section, set up scenarios where a significant market event affects stock prices on a specific day. Adjust the impact of these events to observe varying outcomes. Discuss the observed trends and implications."
      ],
      "metadata": {
        "id": "ouYX5NXFPRVc"
      }
    },
    {
      "cell_type": "code",
      "source": [
        "from simulacra.stock_market_simulation import StockMarketSimulation\n",
        "import matplotlib.pyplot as plt\n",
        "\n",
        "# Write a helper function\n",
        "def plot_prices(prices, event_day=None):\n",
        "    \"\"\"\n",
        "    Plots the stock prices from a simulation with an optional vertical line marking a major market event.\n",
        "\n",
        "    Parameters:\n",
        "        prices (List[float]): A list of stock prices to be plotted.\n",
        "        event_day (Optional[int]): The day on which the major market event occurs (defaults to None).\n",
        "\n",
        "    Returns:\n",
        "        None\n",
        "    \"\"\"\n",
        "    plt.figure(figsize=(10, 6))\n",
        "    plt.plot(prices, label='Stock Price')\n",
        "    if event_day is not None:\n",
        "        plt.axvline(x=event_day, color='red', linestyle='--', label='Major Market Event')\n",
        "    plt.xlabel('Days')\n",
        "    plt.ylabel('Price ($)')\n",
        "    plt.title('Stock Market Simulation')\n",
        "    plt.legend()\n",
        "    plt.show()\n",
        "\n",
        "# Create the simulation\n",
        "sim = StockMarketSimulation(start_price=100, days=365, volatility=0.03,\n",
        "                                drift=-0.001, event_day=30, event_impact=-0.2, random_seed = 2)\n",
        "\n",
        "# Run the simulation\n",
        "prices = sim.run_simulation()\n",
        "\n",
        "# Visualise the results\n",
        "plot_prices(prices, sim.event_day)"
      ],
      "metadata": {
        "id": "6SXNet1SPbeT"
      },
      "execution_count": null,
      "outputs": []
    },
    {
      "cell_type": "code",
      "source": [
        "\"\"\"\"\n",
        "The stock prices may show steadiness at first with small variations due to their low volatility of 0.03. This degree of volatility indicates that very stable price movements for the stock are anticipated.\n",
        "Day 30 of the simulation features a significant market event with an impact of -0.2. This implies a significant unfortunate development on the market, resulting in a reduction in stock values during that period.There may be a noticeable drop in stock values after the market event. The intensity of the occurrence and market mood are two elements that determine how much and how long this downturn will last. This simulation provides light on the various aspects that affect stock price dynamics and investing results, including volatility and market events. It emphasizes how crucial it is to understand risk considerations and put into practice sound investing strategies that are suited to the state of the market."
      ],
      "metadata": {
        "id": "QH0wAP5ZFJMs"
      },
      "execution_count": null,
      "outputs": []
    },
    {
      "cell_type": "markdown",
      "source": [
        "## (Optional) Develop and Test Trading Strategies\n",
        "\n",
        "In this section, explore basic trading strategies such as \"buy and hold\", \"moving average crossover\", or \"momentum-based\" strategies. Implement these strategies in your simulation to test their effectiveness over time. Discuss the observed trends and implications."
      ],
      "metadata": {
        "id": "UMbo3KNDPcBe"
      }
    },
    {
      "cell_type": "code",
      "source": [
        "# Code to test trading strategies."
      ],
      "metadata": {
        "id": "WS5HweX2PoNi"
      },
      "execution_count": null,
      "outputs": []
    },
    {
      "cell_type": "markdown",
      "source": [
        "## Conclusions\n",
        "Summarise the insights gained from the simulations, implications for businesses, and potential strategies for managing pricing price flucations in volatile markets.\n",
        "\n",
        "## Challenges and Further Research\n",
        "Discuss any limitations encountered during the simulations and suggest areas for further exploration or improvement in future studies.\n",
        "\n",
        "## References and Additional Resources\n",
        "Any sources used for data or concepts."
      ],
      "metadata": {
        "id": "NBJcxhg1P4ui"
      }
    },
    {
      "cell_type": "code",
      "source": [
        "\"\"\"\"\n",
        "Conclusion\n",
        "In conclusion, the simulations highlight the significance of risk management and flexible investment strategies in navigating the complex workings of the stock market by showing how varying degrees of volatility affect stock price dynamics and investment outcomes."
      ],
      "metadata": {
        "id": "DMcayHu8HIV4"
      },
      "execution_count": null,
      "outputs": []
    }
  ]
}